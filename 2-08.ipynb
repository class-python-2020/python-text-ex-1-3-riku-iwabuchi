{
 "metadata": {
  "language_info": {
   "codemirror_mode": {
    "name": "ipython",
    "version": 3
   },
   "file_extension": ".py",
   "mimetype": "text/x-python",
   "name": "python",
   "nbconvert_exporter": "python",
   "pygments_lexer": "ipython3",
   "version": "3.8.2-final"
  },
  "orig_nbformat": 2,
  "kernelspec": {
   "name": "python38232bitce3a0f886f6449ff8c15bf4374072643",
   "display_name": "Python 3.8.2 32-bit"
  }
 },
 "nbformat": 4,
 "nbformat_minor": 2,
 "cells": [
  {
   "cell_type": "code",
   "execution_count": 9,
   "metadata": {
    "tags": []
   },
   "outputs": [
    {
     "output_type": "stream",
     "name": "stdout",
     "text": "2\n8\n[2, 3, 4, 5, 6]\n[2, 4, 6]\n[6, 5, 4, 3, 2]\n[0, 1, 2, 3, 4, 5, 6, 7, 8]\n[8, 7, 6, 5, 4, 3, 2, 1, 0]\n"
    }
   ],
   "source": [
    "my_list = [0,1,2,3,4,5,6,7,8]\n",
    "print(my_list[2])\n",
    "print(my_list[-1])\n",
    "print(my_list[2:7])\n",
    "print(my_list[2:7:2])\n",
    "print(my_list[6:1:-1])\n",
    "print(my_list[:])\n",
    "print(my_list[::-1])"
   ]
  }
 ]
}