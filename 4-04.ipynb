{
 "metadata": {
  "language_info": {
   "codemirror_mode": {
    "name": "ipython",
    "version": 3
   },
   "file_extension": ".py",
   "mimetype": "text/x-python",
   "name": "python",
   "nbconvert_exporter": "python",
   "pygments_lexer": "ipython3",
   "version": "3.8.2-final"
  },
  "orig_nbformat": 2,
  "kernelspec": {
   "name": "python38232bitce3a0f886f6449ff8c15bf4374072643",
   "display_name": "Python 3.8.2 32-bit"
  }
 },
 "nbformat": 4,
 "nbformat_minor": 2,
 "cells": [
  {
   "cell_type": "code",
   "execution_count": 3,
   "metadata": {
    "tags": []
   },
   "outputs": [
    {
     "output_type": "stream",
     "name": "stdout",
     "text": "animal: cat\nanimal in my_func: cat\nvagetable in my_func: carrot\n"
    }
   ],
   "source": [
    "#グローバル変数を定義します\n",
    "animal = 'cat'\n",
    "#グローバル変数をプリントします\n",
    "print(\"animal:\",animal)\n",
    "\n",
    "def my_func():\n",
    "    #ローカル変数を定義します\n",
    "    vagetable = 'carrot'\n",
    "    #関数の中でグローバル変数の値をプリントします\n",
    "    print(\"animal in my_func:\",animal)\n",
    "    #ローカル変数の値をプリントします\n",
    "    print(\"vagetable in my_func:\",vagetable)\n",
    "\n",
    "my_func()  "
   ]
  },
  {
   "cell_type": "code",
   "execution_count": 4,
   "metadata": {},
   "outputs": [
    {
     "output_type": "error",
     "ename": "NameError",
     "evalue": "name 'vagetable' is not defined",
     "traceback": [
      "\u001b[1;31m---------------------------------------------------------------------------\u001b[0m",
      "\u001b[1;31mNameError\u001b[0m                                 Traceback (most recent call last)",
      "\u001b[1;32m<ipython-input-4-639ddd1d66a4>\u001b[0m in \u001b[0;36m<module>\u001b[1;34m\u001b[0m\n\u001b[1;32m----> 1\u001b[1;33m \u001b[0mprint\u001b[0m\u001b[1;33m(\u001b[0m\u001b[1;34m\"vagetable:\"\u001b[0m\u001b[1;33m,\u001b[0m\u001b[0mvagetable\u001b[0m\u001b[1;33m)\u001b[0m\u001b[1;33m\u001b[0m\u001b[1;33m\u001b[0m\u001b[0m\n\u001b[0m",
      "\u001b[1;31mNameError\u001b[0m: name 'vagetable' is not defined"
     ]
    }
   ],
   "source": [
    "print(\"vagetable:\",vagetable)"
   ]
  },
  {
   "cell_type": "code",
   "execution_count": 6,
   "metadata": {
    "tags": []
   },
   "outputs": [
    {
     "output_type": "stream",
     "name": "stdout",
     "text": "animal: cat\nanimal in my_func: dog\nanimal global after my_func: cat\n"
    }
   ],
   "source": [
    "animal = 'cat'\n",
    "print(\"animal:\",animal)\n",
    "\n",
    "def my_func():\n",
    "    animal = 'dog'\n",
    "    print(\"animal in my_func:\",animal)\n",
    "\n",
    "my_func()\n",
    "\n",
    "print(\"animal global after my_func:\",animal)"
   ]
  },
  {
   "cell_type": "code",
   "execution_count": 7,
   "metadata": {
    "tags": []
   },
   "outputs": [
    {
     "output_type": "stream",
     "name": "stdout",
     "text": "animal: cat\nanimal in my_func: dog\nanimal global after my_func_alter: cat\n"
    }
   ],
   "source": [
    "animal = 'cat'\n",
    "print(\"animal:\",animal)\n",
    "\n",
    "def my_func_alter():\n",
    "    global animal\n",
    "    animal = 'dog'\n",
    "    print(\"animal in my_func_alter:\",animal)\n",
    "\n",
    "my_func()\n",
    "\n",
    "print(\"animal global after my_func_alter:\",animal)"
   ]
  },
  {
   "cell_type": "code",
   "execution_count": 8,
   "metadata": {
    "tags": []
   },
   "outputs": [
    {
     "output_type": "stream",
     "name": "stdout",
     "text": "global_list in the func: ['tomato', 'spinach', 'pumpkin', 'potato', 'lettuce']\ninserted to the head\nglobal_list in the func: ['cabbage', 'tomato', 'spinach', 'pumpkin', 'potato', 'lettuce']\nglobal_list in the func: ['cabbage', 'tomato', 'spinach', 'pumpkin', 'potato', 'lettuce']\ninserted to the head\nglobal_list in the func: ['eggplant', 'cabbage', 'tomato', 'spinach', 'pumpkin', 'potato', 'lettuce']\nglobal_list: ['eggplant', 'cabbage', 'tomato', 'spinach', 'pumpkin', 'potato', 'lettuce']\n"
    }
   ],
   "source": [
    "global_list = ['tomato','spinach','pumpkin','potato','lettuce']\n",
    "\n",
    "def add_to_head(vagetable):\n",
    "    print(\"global_list in the func:\",global_list)\n",
    "    global_list.insert(0,vagetable)\n",
    "    print(\"inserted to the head\")\n",
    "    print(\"global_list in the func:\",global_list)\n",
    "\n",
    "add_to_head('cabbage')\n",
    "add_to_head('eggplant')\n",
    "\n",
    "print(\"global_list:\",global_list)"
   ]
  },
  {
   "cell_type": "code",
   "execution_count": 9,
   "metadata": {
    "tags": []
   },
   "outputs": [
    {
     "output_type": "stream",
     "name": "stdout",
     "text": "投票します\n票の数は1です\n投票します\n票の数は2です\n投票します\n投票します\n投票します\n票の数は5です\n箱を空にします\n票の数は0です\n"
    }
   ],
   "source": [
    "vote_num = 0\n",
    "def vote():\n",
    "    print(\"投票します\")\n",
    "    global vote_num\n",
    "    vote_num += 1\n",
    "\n",
    "def reset_box():\n",
    "    global vote_num\n",
    "    print(\"箱を空にします\")\n",
    "    vote_num = 0\n",
    "\n",
    "def check_box():\n",
    "    global vote_num\n",
    "    print(\"票の数は{}です\".format(vote_num))\n",
    "\n",
    "vote()\n",
    "check_box()\n",
    "vote()\n",
    "check_box()\n",
    "for i in range(3):\n",
    "    vote()\n",
    "check_box()\n",
    "reset_box()\n",
    "check_box()"
   ]
  },
  {
   "cell_type": "code",
   "execution_count": 10,
   "metadata": {
    "tags": []
   },
   "outputs": [
    {
     "output_type": "stream",
     "name": "stdout",
     "text": "投票します\n票の数は1です\n投票します\n票の数は2です\n投票します\n投票します\n投票します\n票の数は5です\n箱を空にします\n票の数は0です\n"
    }
   ],
   "source": [
    "vote_num = 0\n",
    "def vote(vote_n):\n",
    "    print(\"投票します\")\n",
    "    vote_n += 1\n",
    "    return vote_n\n",
    "\n",
    "def reset_box(vote_n):\n",
    "    print(\"箱を空にします\")\n",
    "    vote_n = 0\n",
    "    return vote_n\n",
    "\n",
    "def check_box(vote_n):\n",
    "    print(\"票の数は{}です\".format(vote_n))\n",
    "    return\n",
    "\n",
    "vote_num = vote(vote_num)\n",
    "check_box(vote_num)\n",
    "vote_num = vote(vote_num)\n",
    "check_box(vote_num)\n",
    "for i in range(3):\n",
    "    vote_num = vote(vote_num)\n",
    "check_box(vote_num)\n",
    "vote_num = reset_box(vote_num)\n",
    "check_box(vote_num)"
   ]
  },
  {
   "cell_type": "code",
   "execution_count": 12,
   "metadata": {
    "tags": []
   },
   "outputs": [
    {
     "output_type": "stream",
     "name": "stdout",
     "text": "投票します\n票の数は1です 投票します\n票の数は2です 投票します\n投票します\n投票します\n票の数は5です 箱を空にします\n票の数は0です"
    }
   ],
   "source": [
    "vote_box = []\n",
    "label = \"票\"\n",
    "def vote():\n",
    "    print(\"投票します\")\n",
    "    vote_box.append(label)\n",
    "\n",
    "def reset_box():\n",
    "    print(\"箱を空にします\")\n",
    "    vote_box.clear()\n",
    "\n",
    "def check_box():\n",
    "    print(\"票の数は{}です\".format(len(vote_box)),end=\" \")\n",
    "\n",
    "vote()\n",
    "check_box()\n",
    "vote()\n",
    "check_box()\n",
    "for i in range(3):\n",
    "    vote()\n",
    "check_box()\n",
    "reset_box()\n",
    "check_box()"
   ]
  }
 ]
}