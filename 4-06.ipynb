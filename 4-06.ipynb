{
 "metadata": {
  "language_info": {
   "codemirror_mode": {
    "name": "ipython",
    "version": 3
   },
   "file_extension": ".py",
   "mimetype": "text/x-python",
   "name": "python",
   "nbconvert_exporter": "python",
   "pygments_lexer": "ipython3",
   "version": "3.8.2-final"
  },
  "orig_nbformat": 2,
  "kernelspec": {
   "name": "python38232bitce3a0f886f6449ff8c15bf4374072643",
   "display_name": "Python 3.8.2 32-bit"
  }
 },
 "nbformat": 4,
 "nbformat_minor": 2,
 "cells": [
  {
   "cell_type": "code",
   "execution_count": 1,
   "metadata": {
    "tags": []
   },
   "outputs": [
    {
     "output_type": "stream",
     "name": "stdout",
     "text": "100\n"
    }
   ],
   "source": [
    "def square(x):\n",
    "    '''与えられた数値の2乗を返す'''\n",
    "    return x ** 2\n",
    "\n",
    "print(square(10))"
   ]
  },
  {
   "cell_type": "code",
   "execution_count": 2,
   "metadata": {
    "tags": []
   },
   "outputs": [
    {
     "output_type": "stream",
     "name": "stdout",
     "text": "100\n"
    }
   ],
   "source": [
    "#与えられた数値の2乗を返す\n",
    "sq_func = lambda x: x ** 2\n",
    "\n",
    "print(sq_func(10))"
   ]
  },
  {
   "cell_type": "code",
   "execution_count": 3,
   "metadata": {
    "tags": []
   },
   "outputs": [
    {
     "output_type": "stream",
     "name": "stdout",
     "text": "文字列リスト: ['No.1', 'No.2', 'No.3', 'No.4', 'No.5', 'No.6', 'No.7', 'No.8', 'No.9', 'No.10']\n"
    }
   ],
   "source": [
    "i_num_list = range(1,11)\n",
    "s_num_list = list(map(lambda i: \"No.\" + str(i),i_num_list))\n",
    "    print(\"文字列リスト:\",s_num_list)"
   ]
  },
  {
   "cell_type": "code",
   "execution_count": 4,
   "metadata": {
    "tags": []
   },
   "outputs": [
    {
     "output_type": "stream",
     "name": "stdout",
     "text": "No.1 No.2 No.3 No.4 No.5 No.6 No.7 No.8 No.9 No.10"
    }
   ],
   "source": [
    "#数値を文字に変換して修飾します\n",
    "for s in map(lambda i:\"No.\" + str(i),range(1,11)):\n",
    "    print(s,end=\" \")"
   ]
  },
  {
   "cell_type": "code",
   "execution_count": 5,
   "metadata": {
    "tags": []
   },
   "outputs": [
    {
     "output_type": "stream",
     "name": "stdout",
     "text": "2 4 6 8 10"
    }
   ],
   "source": [
    "#偶数だけ取得します\n",
    "for e in filter(lambda i: i%2==0,range(1,11)):\n",
    "    print(e,end=\" \")"
   ]
  },
  {
   "cell_type": "code",
   "execution_count": 6,
   "metadata": {
    "tags": []
   },
   "outputs": [
    {
     "output_type": "stream",
     "name": "stdout",
     "text": "2 4 6 8 10"
    }
   ],
   "source": [
    "def is_even(x):\n",
    "    '''偶数ならTrue'''\n",
    "    return x % 2 == 0\n",
    "\n",
    "#偶数だけ取得します\n",
    "for e in filter(is_even,range(1,11)):\n",
    "    print(e,end=\" \")"
   ]
  },
  {
   "cell_type": "code",
   "execution_count": 7,
   "metadata": {
    "tags": []
   },
   "outputs": [
    {
     "output_type": "stream",
     "name": "stdout",
     "text": "[(2, 'down'), (1, 'up'), (4, 'charm'), (3, 'strange'), (6, 'top'), (5, 'bottom')]\n"
    }
   ],
   "source": [
    "pairs = [(2,'down'),(1,'up'),(4,'charm'),(3,'strange'),(6,'top'),(5,'bottom')]\n",
    "print(pairs)"
   ]
  },
  {
   "cell_type": "code",
   "execution_count": 8,
   "metadata": {
    "tags": []
   },
   "outputs": [
    {
     "output_type": "stream",
     "name": "stdout",
     "text": "[(1, 'up'), (2, 'down'), (3, 'strange'), (4, 'charm'), (5, 'bottom'), (6, 'top')]\n"
    }
   ],
   "source": [
    "pairs.sort()\n",
    "print(pairs)"
   ]
  },
  {
   "cell_type": "code",
   "execution_count": 9,
   "metadata": {
    "tags": []
   },
   "outputs": [
    {
     "output_type": "stream",
     "name": "stdout",
     "text": "[(5, 'bottom'), (4, 'charm'), (2, 'down'), (3, 'strange'), (6, 'top'), (1, 'up')]\n"
    }
   ],
   "source": [
    "pairs.sort(key=lambda x:x[1])\n",
    "print(pairs)"
   ]
  },
  {
   "cell_type": "code",
   "execution_count": 10,
   "metadata": {
    "tags": []
   },
   "outputs": [
    {
     "output_type": "stream",
     "name": "stdout",
     "text": "[(1, 'up'), (6, 'top'), (3, 'strange'), (2, 'down'), (4, 'charm'), (5, 'bottom')]\n"
    }
   ],
   "source": [
    "pairs.sort(key=lambda x:x[1],reverse=True)\n",
    "print(pairs)"
   ]
  },
  {
   "cell_type": "code",
   "execution_count": 11,
   "metadata": {},
   "outputs": [
    {
     "output_type": "execute_result",
     "data": {
      "text/plain": "'odd'"
     },
     "metadata": {},
     "execution_count": 11
    }
   ],
   "source": [
    "n = 3\n",
    "func = lambda n: \"even\" if (n % 2 == 0) else \"odd\"\n",
    "func(n)"
   ]
  },
  {
   "cell_type": "code",
   "execution_count": 12,
   "metadata": {},
   "outputs": [
    {
     "output_type": "execute_result",
     "data": {
      "text/plain": "'odd'"
     },
     "metadata": {},
     "execution_count": 12
    }
   ],
   "source": [
    "n = 3\n",
    "x = \"even\" if (n % 2 == 0) else \"odd\"\n",
    "func(n)"
   ]
  },
  {
   "cell_type": "code",
   "execution_count": 13,
   "metadata": {
    "tags": []
   },
   "outputs": [
    {
     "output_type": "stream",
     "name": "stdout",
     "text": "odd\n"
    }
   ],
   "source": [
    "n = 3\n",
    "if n % 2 == 0:\n",
    "    x = \"even\" \n",
    "else:\n",
    "    x = \"odd\"\n",
    "print(x)"
   ]
  },
  {
   "cell_type": "code",
   "execution_count": 14,
   "metadata": {},
   "outputs": [
    {
     "output_type": "execute_result",
     "data": {
      "text/plain": "[1, 2, 3, 4, 5, 6, 7]"
     },
     "metadata": {},
     "execution_count": 14
    }
   ],
   "source": [
    "list(range(1,8))"
   ]
  },
  {
   "cell_type": "code",
   "execution_count": 15,
   "metadata": {},
   "outputs": [
    {
     "output_type": "execute_result",
     "data": {
      "text/plain": "'0005'"
     },
     "metadata": {},
     "execution_count": 15
    }
   ],
   "source": [
    "\"{:04}\".format(5)"
   ]
  },
  {
   "cell_type": "code",
   "execution_count": 16,
   "metadata": {},
   "outputs": [
    {
     "output_type": "execute_result",
     "data": {
      "text/plain": "<map at 0x6c805c8>"
     },
     "metadata": {},
     "execution_count": 16
    }
   ],
   "source": [
    "str_num_list = map(lambda x: \"{:04}\".format(x),range(1,8))\n",
    "str_num_list"
   ]
  },
  {
   "cell_type": "code",
   "execution_count": 17,
   "metadata": {
    "tags": []
   },
   "outputs": [
    {
     "output_type": "stream",
     "name": "stdout",
     "text": "['0001', '0002', '0003', '0004', '0005', '0006', '0007']\n"
    }
   ],
   "source": [
    "print(list(str_num_list))"
   ]
  },
  {
   "cell_type": "code",
   "execution_count": 19,
   "metadata": {
    "tags": []
   },
   "outputs": [
    {
     "output_type": "stream",
     "name": "stdout",
     "text": "['0001', '0002', '0003', '0004', '0005', '0006', '0007']\n"
    }
   ],
   "source": [
    "print([\"{:0=4}\".format(x) for x in range(1,8)])"
   ]
  },
  {
   "cell_type": "code",
   "execution_count": 20,
   "metadata": {
    "tags": []
   },
   "outputs": [
    {
     "output_type": "stream",
     "name": "stdout",
     "text": "<generator object <genexpr> at 0x06CEE7D0>\n"
    }
   ],
   "source": [
    "print((\"{:0=4}\".format(x) for x in range(1,8)))"
   ]
  },
  {
   "cell_type": "code",
   "execution_count": 21,
   "metadata": {
    "tags": []
   },
   "outputs": [
    {
     "output_type": "stream",
     "name": "stdout",
     "text": "['0001', '0002', '0003', '0004', '0005', '0006', '0007']\n"
    }
   ],
   "source": [
    "print(list(\"{:0=4}\".format(x) for x in range(1,8)))"
   ]
  },
  {
   "cell_type": "code",
   "execution_count": 3,
   "metadata": {
    "tags": []
   },
   "outputs": [
    {
     "output_type": "stream",
     "name": "stdout",
     "text": "i,name,height,weight\n0 n30 174 57\n1 n38 159 60\n...\n9 n31 182 72\n"
    }
   ],
   "source": [
    "import random\n",
    "def generate_students_data(num_students=10):\n",
    "    '''生徒名,身長,体重からなるデータをランダムに生成する\n",
    "    \n",
    "    引数:num_students:生徒の人数を取る\n",
    "    戻り:num_students個のタプル(生徒名,身長,体重)からなるリスト\n",
    "    \n",
    "    データの内容\n",
    "    　　　生徒名　'nXX', XX は10から50の番号\n",
    "    　　　身長  150-190 cmからランダムに選んだ値\n",
    "    　　　体重　50-80 kgからランダムに選んだ値\n",
    "    '''\n",
    "    students_data = []\n",
    "    for i in range(num_students):\n",
    "        name = 'n' + str(random.randint(10,50))\n",
    "        height = random.randint(150,190)\n",
    "        weight = random.randint(50,80)\n",
    "        students_data.append((name,height,weight))\n",
    "        if i == 0: print('i,name,height,weight')\n",
    "        if i < 2 or i == num_students - 1:\n",
    "            print(i,name,height,weight)\n",
    "        elif i == 2:\n",
    "            print('...')\n",
    "    return students_data\n",
    "\n",
    "students_data = generate_students_data(10)    "
   ]
  },
  {
   "cell_type": "code",
   "execution_count": 4,
   "metadata": {},
   "outputs": [
    {
     "output_type": "execute_result",
     "data": {
      "text/plain": "[('n30', 174, 57),\n ('n38', 159, 60),\n ('n29', 179, 66),\n ('n32', 179, 79),\n ('n24', 186, 61),\n ('n27', 188, 64),\n ('n47', 174, 53),\n ('n45', 173, 74),\n ('n27', 163, 56),\n ('n31', 182, 72)]"
     },
     "metadata": {},
     "execution_count": 4
    }
   ],
   "source": [
    "students_data"
   ]
  },
  {
   "cell_type": "code",
   "execution_count": 5,
   "metadata": {},
   "outputs": [],
   "source": [
    "students_by_height = sorted(students_data,key=lambda s: s[1])\n",
    "students_by_weight = sorted(students_data,key=lambda s: s[2])"
   ]
  },
  {
   "cell_type": "code",
   "execution_count": 6,
   "metadata": {
    "tags": []
   },
   "outputs": [
    {
     "output_type": "stream",
     "name": "stdout",
     "text": "\nSort by height\n('n38', 159, 60)\n('n27', 163, 56)\n('n45', 173, 74)\n('n30', 174, 57)\n('n47', 174, 53)\n('n29', 179, 66)\n('n32', 179, 79)\n('n31', 182, 72)\n('n24', 186, 61)\n('n27', 188, 64)\n"
    }
   ],
   "source": [
    "print('\\nSort by height')\n",
    "for student in students_by_height:\n",
    "    print(student)"
   ]
  },
  {
   "cell_type": "code",
   "execution_count": 7,
   "metadata": {
    "tags": []
   },
   "outputs": [
    {
     "output_type": "stream",
     "name": "stdout",
     "text": "\nSort by weight\n('n47', 174, 53)\n('n27', 163, 56)\n('n30', 174, 57)\n('n38', 159, 60)\n('n24', 186, 61)\n('n27', 188, 64)\n('n29', 179, 66)\n('n31', 182, 72)\n('n45', 173, 74)\n('n32', 179, 79)\n"
    }
   ],
   "source": [
    "print('\\nSort by weight')\n",
    "for student in students_by_weight:\n",
    "    print(student)"
   ]
  }
 ]
}