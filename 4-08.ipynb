{
 "metadata": {
  "language_info": {
   "codemirror_mode": {
    "name": "ipython",
    "version": 3
   },
   "file_extension": ".py",
   "mimetype": "text/x-python",
   "name": "python",
   "nbconvert_exporter": "python",
   "pygments_lexer": "ipython3",
   "version": "3.8.2-final"
  },
  "orig_nbformat": 2,
  "kernelspec": {
   "name": "python38232bitce3a0f886f6449ff8c15bf4374072643",
   "display_name": "Python 3.8.2 32-bit"
  }
 },
 "nbformat": 4,
 "nbformat_minor": 2,
 "cells": [
  {
   "cell_type": "code",
   "execution_count": 1,
   "metadata": {},
   "outputs": [
    {
     "output_type": "execute_result",
     "data": {
      "text/plain": "9"
     },
     "metadata": {},
     "execution_count": 1
    }
   ],
   "source": [
    "def show_how_it_works(func):\n",
    "    def my_function(*args,**kwargs):\n",
    "        print('Running function:', func.__name__)\n",
    "        print('Positional arguments:', args)\n",
    "        print('Keyword arguments:', kwargs)\n",
    "        result = func(*args,**kwargs)\n",
    "        print('Result:',result)\n",
    "        return result\n",
    "    return my_function\n",
    "\n",
    "def add_two_numbers(a,b):\n",
    "    return a + b\n",
    "\n",
    "add_two_numbers(1,8)"
   ]
  },
  {
   "cell_type": "code",
   "execution_count": 2,
   "metadata": {
    "tags": []
   },
   "outputs": [
    {
     "output_type": "stream",
     "name": "stdout",
     "text": "Running function: add_two_numbers\nPositional arguments: (1, 8)\nKeyword arguments: {}\nResult: 9\n"
    },
    {
     "output_type": "execute_result",
     "data": {
      "text/plain": "9"
     },
     "metadata": {},
     "execution_count": 2
    }
   ],
   "source": [
    "decolated_func = show_how_it_works(add_two_numbers)\n",
    "decolated_func(1,8)"
   ]
  },
  {
   "cell_type": "code",
   "execution_count": 3,
   "metadata": {
    "tags": []
   },
   "outputs": [
    {
     "output_type": "stream",
     "name": "stdout",
     "text": "Running function: add_two_numbers\nPositional arguments: (1, 8)\nKeyword arguments: {}\nResult: 9\n"
    },
    {
     "output_type": "execute_result",
     "data": {
      "text/plain": "9"
     },
     "metadata": {},
     "execution_count": 3
    }
   ],
   "source": [
    "add_two_numbers = decolated_func\n",
    "add_two_numbers(1,8)"
   ]
  },
  {
   "cell_type": "code",
   "execution_count": 4,
   "metadata": {
    "tags": []
   },
   "outputs": [
    {
     "output_type": "stream",
     "name": "stdout",
     "text": "Running function: add_two_numbers\nPositional arguments: (1, 8)\nKeyword arguments: {}\nResult: 9\n"
    },
    {
     "output_type": "execute_result",
     "data": {
      "text/plain": "9"
     },
     "metadata": {},
     "execution_count": 4
    }
   ],
   "source": [
    "@show_how_it_works\n",
    "def add_two_numbers(a,b):\n",
    "    return a + b\n",
    "\n",
    "add_two_numbers(1,8)"
   ]
  },
  {
   "cell_type": "code",
   "execution_count": 6,
   "metadata": {
    "tags": []
   },
   "outputs": [],
   "source": [
    "def fib(n):\n",
    "    if n < 2:\n",
    "        return n\n",
    "    return fib(n-1) + fib(n-2)"
   ]
  },
  {
   "cell_type": "code",
   "execution_count": 7,
   "metadata": {
    "tags": []
   },
   "outputs": [
    {
     "output_type": "stream",
     "name": "stdout",
     "text": "Wall time: 997 µs\n"
    },
    {
     "output_type": "execute_result",
     "data": {
      "text/plain": "[0, 1, 1, 2, 3, 5, 8, 13, 21, 34, 55, 89, 144, 233, 377, 610]"
     },
     "metadata": {},
     "execution_count": 7
    }
   ],
   "source": [
    "%%time\n",
    "[fib(n) for n in range(16)]"
   ]
  },
  {
   "cell_type": "code",
   "execution_count": 8,
   "metadata": {},
   "outputs": [],
   "source": [
    "from functools import lru_cache\n",
    "\n",
    "@lru_cache(maxsize=None)\n",
    "def fib(n):\n",
    "    if n < 2:\n",
    "        return n\n",
    "    return fib(n-1) + fib(n-2)"
   ]
  },
  {
   "cell_type": "code",
   "execution_count": 9,
   "metadata": {
    "tags": []
   },
   "outputs": [
    {
     "output_type": "stream",
     "name": "stdout",
     "text": "Wall time: 0 ns\n"
    },
    {
     "output_type": "execute_result",
     "data": {
      "text/plain": "[0, 1, 1, 2, 3, 5, 8, 13, 21, 34, 55, 89, 144, 233, 377, 610]"
     },
     "metadata": {},
     "execution_count": 9
    }
   ],
   "source": [
    "%%time \n",
    "[fib(n) for n in range(16)]"
   ]
  },
  {
   "cell_type": "code",
   "execution_count": 10,
   "metadata": {},
   "outputs": [],
   "source": [
    "def show_begin_end(func):\n",
    "    '''呼ばれた関数の始めと終わりを表示するデコレータ'''\n",
    "    def deco_func(*args,**kwargs):\n",
    "        '''関数を実行する前と後にメッセージを表示'''\n",
    "        print('== start')\n",
    "        result = func(*args,**kwargs)\n",
    "        print('== end')\n",
    "        return result\n",
    "    return deco_func"
   ]
  },
  {
   "cell_type": "code",
   "execution_count": 11,
   "metadata": {
    "tags": []
   },
   "outputs": [
    {
     "output_type": "stream",
     "name": "stdout",
     "text": "sleeping ..\nDone Sleeping\n"
    }
   ],
   "source": [
    "import time\n",
    "\n",
    "def sleep_for_a_while():\n",
    "    '''しばらく眠る'''\n",
    "    print(\"sleeping ..\")\n",
    "    time.sleep(2) # sleep for a while\n",
    "    print(\"Done Sleeping\")\n",
    "\n",
    "sleep_for_a_while()"
   ]
  },
  {
   "cell_type": "code",
   "execution_count": 12,
   "metadata": {
    "tags": []
   },
   "outputs": [
    {
     "output_type": "stream",
     "name": "stdout",
     "text": "== start\nsleeping ..\nDone Sleeping\n== end\n"
    }
   ],
   "source": [
    "@show_begin_end\n",
    "def sleep_for_a_while():\n",
    "    '''しばらく眠る'''\n",
    "    print(\"sleeping ..\")\n",
    "    time.sleep(2) # sleep for a while\n",
    "    print(\"Done Sleeping\")\n",
    "\n",
    "sleep_for_a_while()"
   ]
  },
  {
   "cell_type": "code",
   "execution_count": 13,
   "metadata": {
    "tags": []
   },
   "outputs": [
    {
     "output_type": "stream",
     "name": "stdout",
     "text": "Help on function deco_func in module __main__:\n\ndeco_func(*args, **kwargs)\n    関数を実行する前と後にメッセージを表示\n\n"
    }
   ],
   "source": [
    "help(sleep_for_a_while)"
   ]
  },
  {
   "cell_type": "code",
   "execution_count": 14,
   "metadata": {
    "tags": []
   },
   "outputs": [
    {
     "output_type": "stream",
     "name": "stdout",
     "text": "== start\nsleeping ..\nDone Sleeping\n== end\n"
    }
   ],
   "source": [
    "from functools import wraps\n",
    "def show_begin_end(func):\n",
    "    '''呼ばれた関数の始めと終わりを表示するデコレータ'''\n",
    "    @wraps(func)\n",
    "    def deco_func(*args,**kwargs):\n",
    "        '''関数を実行する前と後にメッセージを表示'''\n",
    "        print('== start')\n",
    "        result = func(*args,**kwargs)\n",
    "        print('== end')\n",
    "        return result\n",
    "    return deco_func\n",
    "\n",
    "@show_begin_end\n",
    "def sleep_for_a_while():\n",
    "    '''しばらく眠る'''\n",
    "    print(\"sleeping ..\")\n",
    "    time.sleep(2) # sleep for a while\n",
    "    print(\"Done Sleeping\")\n",
    "\n",
    "sleep_for_a_while()"
   ]
  },
  {
   "cell_type": "code",
   "execution_count": 15,
   "metadata": {},
   "outputs": [
    {
     "output_type": "execute_result",
     "data": {
      "text/plain": "'しばらく眠る'"
     },
     "metadata": {},
     "execution_count": 15
    }
   ],
   "source": [
    "sleep_for_a_while.__doc__"
   ]
  },
  {
   "cell_type": "code",
   "execution_count": 16,
   "metadata": {
    "tags": []
   },
   "outputs": [
    {
     "output_type": "stream",
     "name": "stdout",
     "text": "Help on function sleep_for_a_while in module __main__:\n\nsleep_for_a_while()\n    しばらく眠る\n\n"
    }
   ],
   "source": [
    "help(sleep_for_a_while)"
   ]
  }
 ]
}