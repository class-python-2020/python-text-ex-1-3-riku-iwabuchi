{
 "metadata": {
  "language_info": {
   "codemirror_mode": {
    "name": "ipython",
    "version": 3
   },
   "file_extension": ".py",
   "mimetype": "text/x-python",
   "name": "python",
   "nbconvert_exporter": "python",
   "pygments_lexer": "ipython3",
   "version": "3.8.2-final"
  },
  "orig_nbformat": 2,
  "kernelspec": {
   "name": "python38232bitce3a0f886f6449ff8c15bf4374072643",
   "display_name": "Python 3.8.2 32-bit"
  }
 },
 "nbformat": 4,
 "nbformat_minor": 2,
 "cells": [
  {
   "cell_type": "code",
   "execution_count": 1,
   "metadata": {
    "tags": []
   },
   "outputs": [
    {
     "output_type": "stream",
     "name": "stdout",
     "text": "Hello world 0\nHello world 1\nHello world 2\n"
    }
   ],
   "source": [
    "for i in range(3):\n",
    "    print(\"Hello world {}\".format(i))"
   ]
  },
  {
   "cell_type": "code",
   "execution_count": 2,
   "metadata": {
    "tags": []
   },
   "outputs": [
    {
     "output_type": "stream",
     "name": "stdout",
     "text": "55\n"
    }
   ],
   "source": [
    "#1から10までの数字リストを生成して\n",
    "#その合計を表示する\n",
    "numbers = list(range(1,11))\n",
    "print(sum(numbers))"
   ]
  },
  {
   "cell_type": "code",
   "execution_count": 3,
   "metadata": {},
   "outputs": [],
   "source": [
    "g = 9.81 #重力加速度"
   ]
  },
  {
   "cell_type": "code",
   "execution_count": 4,
   "metadata": {},
   "outputs": [],
   "source": [
    "def my_function():\n",
    "    \"\"\"Explain how to use 'docstring'\"\"\"\n",
    "    pass"
   ]
  },
  {
   "cell_type": "code",
   "execution_count": 5,
   "metadata": {},
   "outputs": [],
   "source": [
    "def my_function():\n",
    "    \"\"\"Explain how to use 'docstring'\n",
    "    \n",
    "    Do nothing but explain how to use docstring.\n",
    "    \"\"\"\n",
    "    pass"
   ]
  },
  {
   "cell_type": "code",
   "execution_count": 6,
   "metadata": {
    "tags": []
   },
   "outputs": [
    {
     "output_type": "stream",
     "name": "stdout",
     "text": "Help on function my_function in module __main__:\n\nmy_function()\n    Explain how to use 'docstring'\n    \n    Do nothing but explain how to use docstring.\n\n"
    }
   ],
   "source": [
    "help(my_function)"
   ]
  },
  {
   "cell_type": "code",
   "execution_count": 7,
   "metadata": {
    "tags": []
   },
   "outputs": [
    {
     "output_type": "stream",
     "name": "stdout",
     "text": "Explain how to use 'docstring'\n    \n    Do nothing but explain how to use docstring.\n    \n"
    }
   ],
   "source": [
    "print(my_function.__doc__)"
   ]
  },
  {
   "cell_type": "code",
   "execution_count": 8,
   "metadata": {},
   "outputs": [
    {
     "output_type": "error",
     "ename": "NameError",
     "evalue": "name 'spam' is not defined",
     "traceback": [
      "\u001b[1;31m---------------------------------------------------------------------------\u001b[0m",
      "\u001b[1;31mNameError\u001b[0m                                 Traceback (most recent call last)",
      "\u001b[1;32m<ipython-input-8-0110948d8c55>\u001b[0m in \u001b[0;36m<module>\u001b[1;34m\u001b[0m\n\u001b[0;32m      1\u001b[0m \u001b[1;31m#悪い例1\u001b[0m\u001b[1;33m\u001b[0m\u001b[1;33m\u001b[0m\u001b[1;33m\u001b[0m\u001b[0m\n\u001b[1;32m----> 2\u001b[1;33m \u001b[0mspam\u001b[0m\u001b[1;33m(\u001b[0m \u001b[0mham\u001b[0m\u001b[1;33m[\u001b[0m \u001b[1;36m1\u001b[0m \u001b[1;33m]\u001b[0m\u001b[1;33m,\u001b[0m\u001b[1;33m{\u001b[0m \u001b[0megg\u001b[0m\u001b[1;33m:\u001b[0m \u001b[1;36m2\u001b[0m \u001b[1;33m}\u001b[0m \u001b[1;33m)\u001b[0m\u001b[1;33m\u001b[0m\u001b[1;33m\u001b[0m\u001b[0m\n\u001b[0m\u001b[0;32m      3\u001b[0m \u001b[1;33m\u001b[0m\u001b[0m\n\u001b[0;32m      4\u001b[0m \u001b[1;31m#悪い例2\u001b[0m\u001b[1;33m\u001b[0m\u001b[1;33m\u001b[0m\u001b[1;33m\u001b[0m\u001b[0m\n\u001b[0;32m      5\u001b[0m \u001b[0mfoo\u001b[0m\u001b[1;33m=\u001b[0m \u001b[1;33m(\u001b[0m\u001b[1;36m0\u001b[0m\u001b[1;33m,\u001b[0m \u001b[1;33m)\u001b[0m\u001b[1;33m\u001b[0m\u001b[1;33m\u001b[0m\u001b[0m\n",
      "\u001b[1;31mNameError\u001b[0m: name 'spam' is not defined"
     ]
    }
   ],
   "source": [
    "#悪い例1\n",
    "spam( ham[ 1 ],{ egg: 2 } )\n",
    "\n",
    "#悪い例2\n",
    "foo= (0, )\n",
    "\n",
    "#悪い例3\n",
    "if x == 4: print(x , y) ; x , y = y , x"
   ]
  },
  {
   "cell_type": "code",
   "execution_count": 9,
   "metadata": {},
   "outputs": [
    {
     "output_type": "error",
     "ename": "SyntaxError",
     "evalue": "invalid character in identifier (<ipython-input-9-da52627f6262>, line 1)",
     "traceback": [
      "\u001b[1;36m  File \u001b[1;32m\"<ipython-input-9-da52627f6262>\"\u001b[1;36m, line \u001b[1;32m1\u001b[0m\n\u001b[1;33m    spam(ham[1],　{egg: 2})\u001b[0m\n\u001b[1;37m                ^\u001b[0m\n\u001b[1;31mSyntaxError\u001b[0m\u001b[1;31m:\u001b[0m invalid character in identifier\n"
     ]
    }
   ],
   "source": [
    "spam(ham[1],　{egg: 2})\n",
    "foo　= (0,)\n",
    "if x == 4: print(x, y); x, y = y, x"
   ]
  },
  {
   "cell_type": "code",
   "execution_count": 10,
   "metadata": {
    "tags": []
   },
   "outputs": [
    {
     "output_type": "stream",
     "name": "stdout",
     "text": "utf-8\npython-text-ex-1-3-riku-iwabuchi\n0 2\n1 2\n2 #\n"
    }
   ],
   "source": [
    "import os,sys\n",
    "MAX = 2\n",
    "print(sys.getdefaultencoding ())\n",
    "print(os.path.basename(os.getcwd ()))\n",
    "for i in range ( 3 ) :\n",
    "    print( i , end=\" \")\n",
    "    if MAX>i:\n",
    "        print( MAX )\n",
    "    else:\n",
    "        print (\"#\")"
   ]
  },
  {
   "cell_type": "code",
   "execution_count": 11,
   "metadata": {
    "tags": []
   },
   "outputs": [
    {
     "output_type": "stream",
     "name": "stdout",
     "text": "utf-8\npython-text-ex-1-3-riku-iwabuchi\n0 2\n1 2\n2 #\n"
    }
   ],
   "source": [
    "import os\n",
    "import sys\n",
    "MAX = 2\n",
    "print(sys.getdefaultencoding())\n",
    "print(os.path.basename(os.getcwd()))\n",
    "for i in range(3):\n",
    "    print(i, end=\" \")\n",
    "    if MAX > i:\n",
    "        print(MAX)\n",
    "    else:\n",
    "        print(\"#\")"
   ]
  }
 ]
}